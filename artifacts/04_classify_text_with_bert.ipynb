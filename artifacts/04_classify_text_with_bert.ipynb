{
 "cells": [
  {
   "cell_type": "markdown",
   "metadata": {
    "id": "IZ6SNYq_tVVC"
   },
   "source": [
    "# Classify text with BERT\n",
    "\n",
    "### Learning Objectives\n",
    "1. Learn how to load a pre-trained BERT model from TensorFlow Hub\n",
    "2. Learn how to build your own model by combining with a classifier\n",
    "3. Learn how to train a BERT model by fine-tuning\n",
    "4. Learn how to save your trained model and use it\n",
    "5. Learn how to evaluate a text classification model\n",
    "\n",
    "This lab will show you how to fine-tune BERT to perform sentiment analysis on a dataset of plain-text IMDB movie reviews.\n",
    "In addition to training a model, you will learn how to preprocess text into an appropriate format.\n",
    "\n"
   ]
  },
  {
   "cell_type": "markdown",
   "metadata": {
    "id": "2PHBpLPuQdmK"
   },
   "source": [
    "## About BERT\n",
    "\n",
    "[BERT](https://arxiv.org/abs/1810.04805) and other Transformer encoder architectures have been wildly successful on a variety of tasks in NLP (natural language processing). They compute vector-space representations of natural language that are suitable for use in deep learning models. The BERT family of models uses the Transformer encoder architecture to process each token of input text in the full context of all tokens before and after, hence the name: Bidirectional Encoder Representations from Transformers. \n",
    "\n",
    "BERT models are usually pre-trained on a large corpus of text, then fine-tuned for specific tasks.\n"
   ]
  },
  {
   "cell_type": "markdown",
   "metadata": {},
   "source": [
    "# Create a New Conda Environment\n",
    "\n",
    "1. If you haven't already created a CUDA enabled environment then go to https://www.youtube.com/watch?v=jZsopVyJktc and make sure you have one set up\n",
    "2. Create a clone of the CUDA environment for our use by going to the Anaconda prompt and typing\n",
    "```bash\n",
    "conda create --name your_env_name --clone tf_gpu\n",
    "```\n",
    "2. Make sure use the new environment for this notebook.\n",
    "3. Enjoy the code! :)"
   ]
  },
  {
   "cell_type": "markdown",
   "metadata": {},
   "source": [
    "### Install the packages we need\n",
    "\n",
    "NOTE: when you try to run any cell you will be prompted to install ipykernel. Make sure to install it as prompted. "
   ]
  },
  {
   "cell_type": "code",
   "execution_count": 1,
   "metadata": {},
   "outputs": [
    {
     "name": "stdout",
     "output_type": "stream",
     "text": [
      "Collecting tf-models-official\n",
      "  Using cached tf_models_official-2.17.0-py2.py3-none-any.whl.metadata (1.4 kB)\n",
      "Collecting Cython (from tf-models-official)\n",
      "  Using cached Cython-3.0.11-cp39-cp39-win_amd64.whl.metadata (3.2 kB)\n",
      "Collecting Pillow (from tf-models-official)\n",
      "  Using cached pillow-10.4.0-cp39-cp39-win_amd64.whl.metadata (9.3 kB)\n",
      "Collecting gin-config (from tf-models-official)\n",
      "  Using cached gin_config-0.5.0-py3-none-any.whl.metadata (2.9 kB)\n",
      "Collecting google-api-python-client>=1.6.7 (from tf-models-official)\n",
      "  Using cached google_api_python_client-2.143.0-py2.py3-none-any.whl.metadata (6.7 kB)\n",
      "Collecting immutabledict (from tf-models-official)\n",
      "  Using cached immutabledict-4.2.0-py3-none-any.whl.metadata (3.4 kB)\n",
      "Collecting kaggle>=1.3.9 (from tf-models-official)\n",
      "  Using cached kaggle-1.6.17-py3-none-any.whl\n",
      "Collecting matplotlib (from tf-models-official)\n",
      "  Using cached matplotlib-3.9.2-cp39-cp39-win_amd64.whl.metadata (11 kB)\n",
      "Requirement already satisfied: numpy>=1.20 in c:\\users\\zain_\\anaconda3\\envs\\glabs2\\lib\\site-packages (from tf-models-official) (1.26.4)\n",
      "Collecting oauth2client (from tf-models-official)\n",
      "  Using cached oauth2client-4.1.3-py2.py3-none-any.whl.metadata (1.2 kB)\n",
      "Collecting opencv-python-headless (from tf-models-official)\n",
      "  Using cached opencv_python_headless-4.10.0.84-cp37-abi3-win_amd64.whl.metadata (20 kB)\n",
      "Collecting pandas>=0.22.0 (from tf-models-official)\n",
      "  Using cached pandas-2.2.2-cp39-cp39-win_amd64.whl.metadata (19 kB)\n",
      "Requirement already satisfied: psutil>=5.4.3 in c:\\users\\zain_\\anaconda3\\envs\\glabs2\\lib\\site-packages (from tf-models-official) (6.0.0)\n",
      "Collecting py-cpuinfo>=3.3.0 (from tf-models-official)\n",
      "  Using cached py_cpuinfo-9.0.0-py3-none-any.whl.metadata (794 bytes)\n",
      "Collecting pycocotools (from tf-models-official)\n",
      "  Using cached pycocotools-2.0.8-cp39-cp39-win_amd64.whl.metadata (1.1 kB)\n",
      "Collecting pyyaml>=6.0.0 (from tf-models-official)\n",
      "  Using cached PyYAML-6.0.2-cp39-cp39-win_amd64.whl.metadata (2.1 kB)\n",
      "Collecting sacrebleu (from tf-models-official)\n",
      "  Using cached sacrebleu-2.4.3-py3-none-any.whl.metadata (51 kB)\n",
      "Collecting scipy>=0.19.1 (from tf-models-official)\n",
      "  Using cached scipy-1.13.1-cp39-cp39-win_amd64.whl.metadata (60 kB)\n",
      "Collecting sentencepiece (from tf-models-official)\n",
      "  Using cached sentencepiece-0.2.0-cp39-cp39-win_amd64.whl.metadata (8.3 kB)\n",
      "Collecting seqeval (from tf-models-official)\n",
      "  Using cached seqeval-1.2.2-py3-none-any.whl\n",
      "Requirement already satisfied: six in c:\\users\\zain_\\anaconda3\\envs\\glabs2\\lib\\site-packages (from tf-models-official) (1.16.0)\n",
      "Collecting tensorflow-datasets (from tf-models-official)\n",
      "  Using cached tensorflow_datasets-4.9.3-py3-none-any.whl.metadata (9.3 kB)\n",
      "Requirement already satisfied: tensorflow-hub>=0.6.0 in c:\\users\\zain_\\appdata\\roaming\\python\\python39\\site-packages (from tf-models-official) (0.16.1)\n",
      "Collecting tensorflow-model-optimization>=0.4.1 (from tf-models-official)\n",
      "  Using cached tensorflow_model_optimization-0.8.0-py2.py3-none-any.whl.metadata (904 bytes)\n",
      "INFO: pip is looking at multiple versions of tf-models-official to determine which version is compatible with other requirements. This could take a while.\n",
      "Collecting tf-models-official\n",
      "  Using cached tf_models_official-2.16.0-py2.py3-none-any.whl.metadata (1.4 kB)\n",
      "  Using cached tf_models_official-2.15.0-py2.py3-none-any.whl.metadata (1.4 kB)\n",
      "  Using cached tf_models_official-2.14.2-py2.py3-none-any.whl.metadata (1.4 kB)\n",
      "  Using cached tf_models_official-2.14.1-py2.py3-none-any.whl.metadata (1.4 kB)\n",
      "  Using cached tf_models_official-2.14.0-py2.py3-none-any.whl.metadata (1.4 kB)\n",
      "  Using cached tf_models_official-2.13.2-py2.py3-none-any.whl.metadata (1.4 kB)\n",
      "  Using cached tf_models_official-2.13.1-py2.py3-none-any.whl.metadata (1.4 kB)\n",
      "Collecting pyyaml<5.4.0,>=5.1 (from tf-models-official)\n",
      "  Using cached PyYAML-5.3.1-cp39-cp39-win_amd64.whl.metadata (1.7 kB)\n",
      "INFO: pip is still looking at multiple versions of tf-models-official to determine which version is compatible with other requirements. This could take a while.\n",
      "Collecting tf-models-official\n",
      "  Using cached tf_models_official-2.13.0-py2.py3-none-any.whl.metadata (1.4 kB)\n",
      "Collecting pyyaml<6.0,>=5.1 (from tf-models-official)\n",
      "  Using cached PyYAML-5.4.1-cp39-cp39-win_amd64.whl.metadata (2.1 kB)\n",
      "Collecting tf-models-official\n",
      "  Using cached tf_models_official-2.12.1-py2.py3-none-any.whl.metadata (1.5 kB)\n",
      "Collecting tensorflow-addons (from tf-models-official)\n",
      "  Using cached tensorflow_addons-0.22.0-cp39-cp39-win_amd64.whl.metadata (1.8 kB)\n",
      "Collecting tf-models-official\n",
      "  Using cached tf_models_official-2.12.0-py2.py3-none-any.whl.metadata (1.5 kB)\n",
      "  Using cached tf_models_official-2.11.6-py2.py3-none-any.whl.metadata (1.5 kB)\n",
      "  Using cached tf_models_official-2.11.5-py2.py3-none-any.whl.metadata (1.5 kB)\n",
      "INFO: This is taking longer than usual. You might need to provide the dependency resolver with stricter constraints to reduce runtime. See https://pip.pypa.io/warnings/backtracking for guidance. If you want to abort this run, press Ctrl + C.\n",
      "  Using cached tf_models_official-2.11.4-py2.py3-none-any.whl.metadata (1.5 kB)\n",
      "  Using cached tf_models_official-2.11.3-py2.py3-none-any.whl.metadata (1.5 kB)\n",
      "  Using cached tf_models_official-2.11.2-py2.py3-none-any.whl.metadata (1.5 kB)\n",
      "  Using cached tf_models_official-2.11.0-py2.py3-none-any.whl.metadata (1.5 kB)\n",
      "Collecting opencv-python-headless==4.5.2.52 (from tf-models-official)\n",
      "  Using cached opencv_python_headless-4.5.2.52-cp39-cp39-win_amd64.whl.metadata (17 kB)\n",
      "Collecting tf-models-official\n",
      "  Using cached tf_models_official-2.10.1-py2.py3-none-any.whl.metadata (1.5 kB)\n",
      "Collecting sacrebleu==2.2.0 (from tf-models-official)\n",
      "  Using cached sacrebleu-2.2.0-py3-none-any.whl.metadata (55 kB)\n",
      "Collecting tensorflow-text~=2.10.0 (from tf-models-official)\n",
      "  Using cached tensorflow_text-2.10.0-cp39-cp39-win_amd64.whl.metadata (2.1 kB)\n",
      "Requirement already satisfied: tensorflow~=2.10.0 in c:\\users\\zain_\\anaconda3\\envs\\glabs2\\lib\\site-packages (from tf-models-official) (2.10.1)\n",
      "Collecting tf-slim>=1.1.0 (from tf-models-official)\n",
      "  Using cached tf_slim-1.1.0-py2.py3-none-any.whl.metadata (1.6 kB)\n",
      "Collecting portalocker (from sacrebleu==2.2.0->tf-models-official)\n",
      "  Using cached portalocker-2.10.1-py3-none-any.whl.metadata (8.5 kB)\n",
      "Collecting regex (from sacrebleu==2.2.0->tf-models-official)\n",
      "  Using cached regex-2024.7.24-cp39-cp39-win_amd64.whl.metadata (41 kB)\n",
      "Collecting tabulate>=0.8.9 (from sacrebleu==2.2.0->tf-models-official)\n",
      "  Using cached tabulate-0.9.0-py3-none-any.whl.metadata (34 kB)\n",
      "Requirement already satisfied: colorama in c:\\users\\zain_\\anaconda3\\envs\\glabs2\\lib\\site-packages (from sacrebleu==2.2.0->tf-models-official) (0.4.6)\n",
      "Collecting lxml (from sacrebleu==2.2.0->tf-models-official)\n",
      "  Using cached lxml-5.3.0-cp39-cp39-win_amd64.whl.metadata (3.9 kB)\n",
      "Collecting httplib2<1.dev0,>=0.19.0 (from google-api-python-client>=1.6.7->tf-models-official)\n",
      "  Using cached httplib2-0.22.0-py3-none-any.whl.metadata (2.6 kB)\n",
      "Requirement already satisfied: google-auth!=2.24.0,!=2.25.0,<3.0.0.dev0,>=1.32.0 in c:\\users\\zain_\\anaconda3\\envs\\glabs2\\lib\\site-packages (from google-api-python-client>=1.6.7->tf-models-official) (2.34.0)\n",
      "Collecting google-auth-httplib2<1.0.0,>=0.2.0 (from google-api-python-client>=1.6.7->tf-models-official)\n",
      "  Using cached google_auth_httplib2-0.2.0-py2.py3-none-any.whl.metadata (2.2 kB)\n",
      "Collecting google-api-core!=2.0.*,!=2.1.*,!=2.2.*,!=2.3.0,<3.0.0.dev0,>=1.31.5 (from google-api-python-client>=1.6.7->tf-models-official)\n",
      "  Using cached google_api_core-2.19.2-py3-none-any.whl.metadata (2.7 kB)\n",
      "Collecting uritemplate<5,>=3.0.1 (from google-api-python-client>=1.6.7->tf-models-official)\n",
      "  Using cached uritemplate-4.1.1-py2.py3-none-any.whl.metadata (2.9 kB)\n",
      "Requirement already satisfied: certifi>=2023.7.22 in c:\\users\\zain_\\anaconda3\\envs\\glabs2\\lib\\site-packages (from kaggle>=1.3.9->tf-models-official) (2024.8.30)\n",
      "Requirement already satisfied: python-dateutil in c:\\users\\zain_\\anaconda3\\envs\\glabs2\\lib\\site-packages (from kaggle>=1.3.9->tf-models-official) (2.9.0)\n",
      "Requirement already satisfied: requests in c:\\users\\zain_\\anaconda3\\envs\\glabs2\\lib\\site-packages (from kaggle>=1.3.9->tf-models-official) (2.32.3)\n",
      "Collecting tqdm (from kaggle>=1.3.9->tf-models-official)\n",
      "  Using cached tqdm-4.66.5-py3-none-any.whl.metadata (57 kB)\n",
      "Collecting python-slugify (from kaggle>=1.3.9->tf-models-official)\n",
      "  Using cached python_slugify-8.0.4-py2.py3-none-any.whl.metadata (8.5 kB)\n",
      "Requirement already satisfied: urllib3 in c:\\users\\zain_\\anaconda3\\envs\\glabs2\\lib\\site-packages (from kaggle>=1.3.9->tf-models-official) (2.2.2)\n",
      "Collecting bleach (from kaggle>=1.3.9->tf-models-official)\n",
      "  Using cached bleach-6.1.0-py3-none-any.whl.metadata (30 kB)\n",
      "Collecting pytz>=2020.1 (from pandas>=0.22.0->tf-models-official)\n",
      "  Using cached pytz-2024.1-py2.py3-none-any.whl.metadata (22 kB)\n",
      "Collecting tzdata>=2022.7 (from pandas>=0.22.0->tf-models-official)\n",
      "  Using cached tzdata-2024.1-py2.py3-none-any.whl.metadata (1.4 kB)\n",
      "Requirement already satisfied: absl-py>=1.0.0 in c:\\users\\zain_\\anaconda3\\envs\\glabs2\\lib\\site-packages (from tensorflow~=2.10.0->tf-models-official) (2.1.0)\n",
      "Requirement already satisfied: astunparse>=1.6.0 in c:\\users\\zain_\\anaconda3\\envs\\glabs2\\lib\\site-packages (from tensorflow~=2.10.0->tf-models-official) (1.6.3)\n",
      "Requirement already satisfied: flatbuffers>=2.0 in c:\\users\\zain_\\anaconda3\\envs\\glabs2\\lib\\site-packages (from tensorflow~=2.10.0->tf-models-official) (24.3.25)\n",
      "Requirement already satisfied: gast<=0.4.0,>=0.2.1 in c:\\users\\zain_\\anaconda3\\envs\\glabs2\\lib\\site-packages (from tensorflow~=2.10.0->tf-models-official) (0.4.0)\n",
      "Requirement already satisfied: google-pasta>=0.1.1 in c:\\users\\zain_\\anaconda3\\envs\\glabs2\\lib\\site-packages (from tensorflow~=2.10.0->tf-models-official) (0.2.0)\n",
      "Requirement already satisfied: h5py>=2.9.0 in c:\\users\\zain_\\anaconda3\\envs\\glabs2\\lib\\site-packages (from tensorflow~=2.10.0->tf-models-official) (3.11.0)\n",
      "Requirement already satisfied: keras-preprocessing>=1.1.1 in c:\\users\\zain_\\anaconda3\\envs\\glabs2\\lib\\site-packages (from tensorflow~=2.10.0->tf-models-official) (1.1.2)\n",
      "Requirement already satisfied: libclang>=13.0.0 in c:\\users\\zain_\\anaconda3\\envs\\glabs2\\lib\\site-packages (from tensorflow~=2.10.0->tf-models-official) (18.1.1)\n",
      "Requirement already satisfied: opt-einsum>=2.3.2 in c:\\users\\zain_\\anaconda3\\envs\\glabs2\\lib\\site-packages (from tensorflow~=2.10.0->tf-models-official) (3.3.0)\n",
      "Requirement already satisfied: packaging in c:\\users\\zain_\\anaconda3\\envs\\glabs2\\lib\\site-packages (from tensorflow~=2.10.0->tf-models-official) (24.1)\n",
      "Requirement already satisfied: protobuf<3.20,>=3.9.2 in c:\\users\\zain_\\anaconda3\\envs\\glabs2\\lib\\site-packages (from tensorflow~=2.10.0->tf-models-official) (3.19.6)\n",
      "Requirement already satisfied: setuptools in c:\\users\\zain_\\anaconda3\\envs\\glabs2\\lib\\site-packages (from tensorflow~=2.10.0->tf-models-official) (72.1.0)\n",
      "Requirement already satisfied: termcolor>=1.1.0 in c:\\users\\zain_\\anaconda3\\envs\\glabs2\\lib\\site-packages (from tensorflow~=2.10.0->tf-models-official) (2.4.0)\n",
      "Requirement already satisfied: typing-extensions>=3.6.6 in c:\\users\\zain_\\anaconda3\\envs\\glabs2\\lib\\site-packages (from tensorflow~=2.10.0->tf-models-official) (4.12.2)\n",
      "Requirement already satisfied: wrapt>=1.11.0 in c:\\users\\zain_\\anaconda3\\envs\\glabs2\\lib\\site-packages (from tensorflow~=2.10.0->tf-models-official) (1.16.0)\n",
      "Requirement already satisfied: tensorflow-io-gcs-filesystem>=0.23.1 in c:\\users\\zain_\\anaconda3\\envs\\glabs2\\lib\\site-packages (from tensorflow~=2.10.0->tf-models-official) (0.31.0)\n",
      "Requirement already satisfied: grpcio<2.0,>=1.24.3 in c:\\users\\zain_\\anaconda3\\envs\\glabs2\\lib\\site-packages (from tensorflow~=2.10.0->tf-models-official) (1.66.1)\n",
      "Requirement already satisfied: tensorboard<2.11,>=2.10 in c:\\users\\zain_\\anaconda3\\envs\\glabs2\\lib\\site-packages (from tensorflow~=2.10.0->tf-models-official) (2.10.1)\n",
      "Requirement already satisfied: tensorflow-estimator<2.11,>=2.10.0 in c:\\users\\zain_\\anaconda3\\envs\\glabs2\\lib\\site-packages (from tensorflow~=2.10.0->tf-models-official) (2.10.0)\n",
      "Requirement already satisfied: keras<2.11,>=2.10.0 in c:\\users\\zain_\\anaconda3\\envs\\glabs2\\lib\\site-packages (from tensorflow~=2.10.0->tf-models-official) (2.10.0)\n",
      "Requirement already satisfied: tf-keras>=2.14.1 in c:\\users\\zain_\\appdata\\roaming\\python\\python39\\site-packages (from tensorflow-hub>=0.6.0->tf-models-official) (2.15.0)\n",
      "Collecting absl-py>=1.0.0 (from tensorflow~=2.10.0->tf-models-official)\n",
      "  Using cached absl_py-1.4.0-py3-none-any.whl.metadata (2.3 kB)\n",
      "Collecting dm-tree~=0.1.1 (from tensorflow-model-optimization>=0.4.1->tf-models-official)\n",
      "  Using cached dm_tree-0.1.8-cp39-cp39-win_amd64.whl.metadata (2.0 kB)\n",
      "Collecting contourpy>=1.0.1 (from matplotlib->tf-models-official)\n",
      "  Using cached contourpy-1.3.0-cp39-cp39-win_amd64.whl.metadata (5.4 kB)\n",
      "Collecting cycler>=0.10 (from matplotlib->tf-models-official)\n",
      "  Using cached cycler-0.12.1-py3-none-any.whl.metadata (3.8 kB)\n",
      "Collecting fonttools>=4.22.0 (from matplotlib->tf-models-official)\n",
      "  Using cached fonttools-4.53.1-cp39-cp39-win_amd64.whl.metadata (165 kB)\n",
      "Collecting kiwisolver>=1.3.1 (from matplotlib->tf-models-official)\n",
      "  Using cached kiwisolver-1.4.5-cp39-cp39-win_amd64.whl.metadata (6.5 kB)\n",
      "Collecting pyparsing>=2.3.1 (from matplotlib->tf-models-official)\n",
      "  Using cached pyparsing-3.1.4-py3-none-any.whl.metadata (5.1 kB)\n",
      "Collecting importlib-resources>=3.2.0 (from matplotlib->tf-models-official)\n",
      "  Using cached importlib_resources-6.4.4-py3-none-any.whl.metadata (4.0 kB)\n",
      "Requirement already satisfied: pyasn1>=0.1.7 in c:\\users\\zain_\\anaconda3\\envs\\glabs2\\lib\\site-packages (from oauth2client->tf-models-official) (0.6.0)\n",
      "Requirement already satisfied: pyasn1-modules>=0.0.5 in c:\\users\\zain_\\anaconda3\\envs\\glabs2\\lib\\site-packages (from oauth2client->tf-models-official) (0.4.0)\n",
      "Requirement already satisfied: rsa>=3.1.4 in c:\\users\\zain_\\anaconda3\\envs\\glabs2\\lib\\site-packages (from oauth2client->tf-models-official) (4.9)\n",
      "Collecting scikit-learn>=0.21.3 (from seqeval->tf-models-official)\n",
      "  Using cached scikit_learn-1.5.1-cp39-cp39-win_amd64.whl.metadata (12 kB)\n",
      "Collecting typeguard<3.0.0,>=2.7 (from tensorflow-addons->tf-models-official)\n",
      "  Using cached typeguard-2.13.3-py3-none-any.whl.metadata (3.6 kB)\n",
      "Collecting array-record (from tensorflow-datasets->tf-models-official)\n",
      "  Using cached array_record-0.4.1-py39-none-any.whl.metadata (503 bytes)\n",
      "Collecting click (from tensorflow-datasets->tf-models-official)\n",
      "  Using cached click-8.1.7-py3-none-any.whl.metadata (3.0 kB)\n",
      "Collecting etils>=0.9.0 (from etils[enp,epath,etree]>=0.9.0->tensorflow-datasets->tf-models-official)\n",
      "  Using cached etils-1.5.2-py3-none-any.whl.metadata (6.3 kB)\n",
      "Collecting promise (from tensorflow-datasets->tf-models-official)\n",
      "  Using cached promise-2.3-py3-none-any.whl\n",
      "INFO: pip is looking at multiple versions of tensorflow-datasets to determine which version is compatible with other requirements. This could take a while.\n",
      "Collecting tensorflow-datasets (from tf-models-official)\n",
      "  Using cached tensorflow_datasets-4.9.2-py3-none-any.whl.metadata (9.0 kB)\n",
      "  Using cached tensorflow_datasets-4.9.1-py3-none-any.whl.metadata (9.0 kB)\n",
      "  Using cached tensorflow_datasets-4.9.0-py3-none-any.whl.metadata (9.0 kB)\n",
      "Collecting tensorflow-metadata (from tensorflow-datasets->tf-models-official)\n",
      "  Using cached tensorflow_metadata-1.15.0-py3-none-any.whl.metadata (2.4 kB)\n",
      "Collecting toml (from tensorflow-datasets->tf-models-official)\n",
      "  Using cached toml-0.10.2-py2.py3-none-any.whl.metadata (7.1 kB)\n",
      "Requirement already satisfied: wheel<1.0,>=0.23.0 in c:\\users\\zain_\\anaconda3\\envs\\glabs2\\lib\\site-packages (from astunparse>=1.6.0->tensorflow~=2.10.0->tf-models-official) (0.43.0)\n",
      "Collecting fsspec (from etils[enp,epath]>=0.9.0->tensorflow-datasets->tf-models-official)\n",
      "  Using cached fsspec-2024.6.1-py3-none-any.whl.metadata (11 kB)\n",
      "Requirement already satisfied: zipp in c:\\users\\zain_\\anaconda3\\envs\\glabs2\\lib\\site-packages (from etils[enp,epath]>=0.9.0->tensorflow-datasets->tf-models-official) (3.20.1)\n",
      "Collecting googleapis-common-protos<2.0.dev0,>=1.56.2 (from google-api-core!=2.0.*,!=2.1.*,!=2.2.*,!=2.3.0,<3.0.0.dev0,>=1.31.5->google-api-python-client>=1.6.7->tf-models-official)\n",
      "  Using cached googleapis_common_protos-1.65.0-py2.py3-none-any.whl.metadata (1.5 kB)\n",
      "Collecting proto-plus<2.0.0dev,>=1.22.3 (from google-api-core!=2.0.*,!=2.1.*,!=2.2.*,!=2.3.0,<3.0.0.dev0,>=1.31.5->google-api-python-client>=1.6.7->tf-models-official)\n",
      "  Using cached proto_plus-1.24.0-py3-none-any.whl.metadata (2.2 kB)\n",
      "Requirement already satisfied: cachetools<6.0,>=2.0.0 in c:\\users\\zain_\\anaconda3\\envs\\glabs2\\lib\\site-packages (from google-auth!=2.24.0,!=2.25.0,<3.0.0.dev0,>=1.32.0->google-api-python-client>=1.6.7->tf-models-official) (5.5.0)\n",
      "Requirement already satisfied: charset-normalizer<4,>=2 in c:\\users\\zain_\\anaconda3\\envs\\glabs2\\lib\\site-packages (from requests->kaggle>=1.3.9->tf-models-official) (3.3.2)\n",
      "Requirement already satisfied: idna<4,>=2.5 in c:\\users\\zain_\\anaconda3\\envs\\glabs2\\lib\\site-packages (from requests->kaggle>=1.3.9->tf-models-official) (3.8)\n",
      "Collecting joblib>=1.2.0 (from scikit-learn>=0.21.3->seqeval->tf-models-official)\n",
      "  Using cached joblib-1.4.2-py3-none-any.whl.metadata (5.4 kB)\n",
      "Collecting threadpoolctl>=3.1.0 (from scikit-learn>=0.21.3->seqeval->tf-models-official)\n",
      "  Using cached threadpoolctl-3.5.0-py3-none-any.whl.metadata (13 kB)\n",
      "Requirement already satisfied: google-auth-oauthlib<0.5,>=0.4.1 in c:\\users\\zain_\\anaconda3\\envs\\glabs2\\lib\\site-packages (from tensorboard<2.11,>=2.10->tensorflow~=2.10.0->tf-models-official) (0.4.6)\n",
      "Requirement already satisfied: markdown>=2.6.8 in c:\\users\\zain_\\anaconda3\\envs\\glabs2\\lib\\site-packages (from tensorboard<2.11,>=2.10->tensorflow~=2.10.0->tf-models-official) (3.7)\n",
      "Requirement already satisfied: tensorboard-data-server<0.7.0,>=0.6.0 in c:\\users\\zain_\\anaconda3\\envs\\glabs2\\lib\\site-packages (from tensorboard<2.11,>=2.10->tensorflow~=2.10.0->tf-models-official) (0.6.1)\n",
      "Requirement already satisfied: tensorboard-plugin-wit>=1.6.0 in c:\\users\\zain_\\anaconda3\\envs\\glabs2\\lib\\site-packages (from tensorboard<2.11,>=2.10->tensorflow~=2.10.0->tf-models-official) (1.8.1)\n",
      "Requirement already satisfied: werkzeug>=1.0.1 in c:\\users\\zain_\\anaconda3\\envs\\glabs2\\lib\\site-packages (from tensorboard<2.11,>=2.10->tensorflow~=2.10.0->tf-models-official) (3.0.4)\n",
      "Collecting webencodings (from bleach->kaggle>=1.3.9->tf-models-official)\n",
      "  Using cached webencodings-0.5.1-py2.py3-none-any.whl.metadata (2.1 kB)\n",
      "Requirement already satisfied: pywin32>=226 in c:\\users\\zain_\\anaconda3\\envs\\glabs2\\lib\\site-packages (from portalocker->sacrebleu==2.2.0->tf-models-official) (306)\n",
      "Collecting text-unidecode>=1.3 (from python-slugify->kaggle>=1.3.9->tf-models-official)\n",
      "  Using cached text_unidecode-1.3-py2.py3-none-any.whl.metadata (2.4 kB)\n",
      "INFO: pip is looking at multiple versions of tensorflow-metadata to determine which version is compatible with other requirements. This could take a while.\n",
      "Collecting tensorflow-metadata (from tensorflow-datasets->tf-models-official)\n",
      "  Using cached tensorflow_metadata-1.14.0-py3-none-any.whl.metadata (2.1 kB)\n",
      "  Using cached tensorflow_metadata-1.13.1-py3-none-any.whl.metadata (2.1 kB)\n",
      "  Using cached tensorflow_metadata-1.13.0-py3-none-any.whl.metadata (2.1 kB)\n",
      "Requirement already satisfied: requests-oauthlib>=0.7.0 in c:\\users\\zain_\\anaconda3\\envs\\glabs2\\lib\\site-packages (from google-auth-oauthlib<0.5,>=0.4.1->tensorboard<2.11,>=2.10->tensorflow~=2.10.0->tf-models-official) (2.0.0)\n",
      "INFO: pip is looking at multiple versions of googleapis-common-protos to determine which version is compatible with other requirements. This could take a while.\n",
      "Collecting googleapis-common-protos<2.0.dev0,>=1.56.2 (from google-api-core!=2.0.*,!=2.1.*,!=2.2.*,!=2.3.0,<3.0.0.dev0,>=1.31.5->google-api-python-client>=1.6.7->tf-models-official)\n",
      "  Using cached googleapis_common_protos-1.64.0-py2.py3-none-any.whl.metadata (1.5 kB)\n",
      "  Using cached googleapis_common_protos-1.63.2-py2.py3-none-any.whl.metadata (1.5 kB)\n",
      "  Using cached googleapis_common_protos-1.63.1-py2.py3-none-any.whl.metadata (1.5 kB)\n",
      "Requirement already satisfied: importlib-metadata>=4.4 in c:\\users\\zain_\\anaconda3\\envs\\glabs2\\lib\\site-packages (from markdown>=2.6.8->tensorboard<2.11,>=2.10->tensorflow~=2.10.0->tf-models-official) (8.4.0)\n",
      "Requirement already satisfied: MarkupSafe>=2.1.1 in c:\\users\\zain_\\anaconda3\\envs\\glabs2\\lib\\site-packages (from werkzeug>=1.0.1->tensorboard<2.11,>=2.10->tensorflow~=2.10.0->tf-models-official) (2.1.5)\n",
      "Requirement already satisfied: oauthlib>=3.0.0 in c:\\users\\zain_\\anaconda3\\envs\\glabs2\\lib\\site-packages (from requests-oauthlib>=0.7.0->google-auth-oauthlib<0.5,>=0.4.1->tensorboard<2.11,>=2.10->tensorflow~=2.10.0->tf-models-official) (3.2.2)\n",
      "Using cached tf_models_official-2.10.1-py2.py3-none-any.whl (2.2 MB)\n",
      "Using cached sacrebleu-2.2.0-py3-none-any.whl (116 kB)\n",
      "Using cached google_api_python_client-2.143.0-py2.py3-none-any.whl (12.2 MB)\n",
      "Using cached pandas-2.2.2-cp39-cp39-win_amd64.whl (11.6 MB)\n",
      "Using cached py_cpuinfo-9.0.0-py3-none-any.whl (22 kB)\n",
      "Using cached PyYAML-5.4.1-cp39-cp39-win_amd64.whl (213 kB)\n",
      "Using cached scipy-1.13.1-cp39-cp39-win_amd64.whl (46.2 MB)\n",
      "Using cached tensorflow_model_optimization-0.8.0-py2.py3-none-any.whl (242 kB)\n",
      "Using cached tensorflow_text-2.10.0-cp39-cp39-win_amd64.whl (5.0 MB)\n",
      "Using cached tf_slim-1.1.0-py2.py3-none-any.whl (352 kB)\n",
      "Using cached Cython-3.0.11-cp39-cp39-win_amd64.whl (2.8 MB)\n",
      "Using cached gin_config-0.5.0-py3-none-any.whl (61 kB)\n",
      "Using cached immutabledict-4.2.0-py3-none-any.whl (4.7 kB)\n",
      "Using cached matplotlib-3.9.2-cp39-cp39-win_amd64.whl (7.8 MB)\n",
      "Using cached pillow-10.4.0-cp39-cp39-win_amd64.whl (2.6 MB)\n",
      "Using cached oauth2client-4.1.3-py2.py3-none-any.whl (98 kB)\n",
      "Using cached opencv_python_headless-4.10.0.84-cp37-abi3-win_amd64.whl (38.8 MB)\n",
      "Using cached pycocotools-2.0.8-cp39-cp39-win_amd64.whl (85 kB)\n",
      "Using cached sentencepiece-0.2.0-cp39-cp39-win_amd64.whl (991 kB)\n",
      "Using cached tensorflow_addons-0.22.0-cp39-cp39-win_amd64.whl (729 kB)\n",
      "Using cached tensorflow_datasets-4.9.0-py3-none-any.whl (5.4 MB)\n",
      "Using cached absl_py-1.4.0-py3-none-any.whl (126 kB)\n",
      "Using cached contourpy-1.3.0-cp39-cp39-win_amd64.whl (211 kB)\n",
      "Using cached cycler-0.12.1-py3-none-any.whl (8.3 kB)\n",
      "Using cached dm_tree-0.1.8-cp39-cp39-win_amd64.whl (101 kB)\n",
      "Using cached etils-1.5.2-py3-none-any.whl (140 kB)\n",
      "Using cached fonttools-4.53.1-cp39-cp39-win_amd64.whl (2.2 MB)\n",
      "Using cached google_api_core-2.19.2-py3-none-any.whl (139 kB)\n",
      "Using cached google_auth_httplib2-0.2.0-py2.py3-none-any.whl (9.3 kB)\n",
      "Using cached httplib2-0.22.0-py3-none-any.whl (96 kB)\n",
      "Using cached importlib_resources-6.4.4-py3-none-any.whl (35 kB)\n",
      "Using cached kiwisolver-1.4.5-cp39-cp39-win_amd64.whl (56 kB)\n",
      "Using cached pyparsing-3.1.4-py3-none-any.whl (104 kB)\n",
      "Using cached pytz-2024.1-py2.py3-none-any.whl (505 kB)\n",
      "Using cached scikit_learn-1.5.1-cp39-cp39-win_amd64.whl (11.0 MB)\n",
      "Using cached tabulate-0.9.0-py3-none-any.whl (35 kB)\n",
      "Using cached typeguard-2.13.3-py3-none-any.whl (17 kB)\n",
      "Using cached tzdata-2024.1-py2.py3-none-any.whl (345 kB)\n",
      "Using cached uritemplate-4.1.1-py2.py3-none-any.whl (10 kB)\n",
      "Using cached array_record-0.4.1-py39-none-any.whl (3.0 MB)\n",
      "Using cached bleach-6.1.0-py3-none-any.whl (162 kB)\n",
      "Using cached click-8.1.7-py3-none-any.whl (97 kB)\n",
      "Using cached lxml-5.3.0-cp39-cp39-win_amd64.whl (3.8 MB)\n",
      "Using cached portalocker-2.10.1-py3-none-any.whl (18 kB)\n",
      "Using cached python_slugify-8.0.4-py2.py3-none-any.whl (10 kB)\n",
      "Using cached regex-2024.7.24-cp39-cp39-win_amd64.whl (269 kB)\n",
      "Using cached tensorflow_metadata-1.13.0-py3-none-any.whl (53 kB)\n",
      "Using cached toml-0.10.2-py2.py3-none-any.whl (16 kB)\n",
      "Using cached tqdm-4.66.5-py3-none-any.whl (78 kB)\n",
      "Using cached googleapis_common_protos-1.63.1-py2.py3-none-any.whl (229 kB)\n",
      "Using cached joblib-1.4.2-py3-none-any.whl (301 kB)\n",
      "Using cached proto_plus-1.24.0-py3-none-any.whl (50 kB)\n",
      "Using cached text_unidecode-1.3-py2.py3-none-any.whl (78 kB)\n",
      "Using cached threadpoolctl-3.5.0-py3-none-any.whl (18 kB)\n",
      "Using cached fsspec-2024.6.1-py3-none-any.whl (177 kB)\n",
      "Using cached webencodings-0.5.1-py2.py3-none-any.whl (11 kB)\n",
      "Installing collected packages: webencodings, text-unidecode, sentencepiece, pytz, py-cpuinfo, gin-config, dm-tree, uritemplate, tzdata, typeguard, tqdm, toml, threadpoolctl, tabulate, scipy, regex, pyyaml, python-slugify, pyparsing, proto-plus, promise, portalocker, Pillow, opencv-python-headless, lxml, kiwisolver, joblib, importlib-resources, immutabledict, googleapis-common-protos, fsspec, fonttools, etils, Cython, cycler, contourpy, click, bleach, absl-py, tf-slim, tensorflow-model-optimization, tensorflow-metadata, tensorflow-addons, scikit-learn, sacrebleu, pandas, matplotlib, kaggle, httplib2, seqeval, pycocotools, oauth2client, google-auth-httplib2, google-api-core, google-api-python-client, array-record, tensorflow-datasets, tensorflow-text, tf-models-official\n",
      "  Attempting uninstall: absl-py\n",
      "    Found existing installation: absl-py 2.1.0\n",
      "    Uninstalling absl-py-2.1.0:\n",
      "      Successfully uninstalled absl-py-2.1.0\n",
      "Successfully installed Cython-3.0.11 Pillow-10.4.0 absl-py-1.4.0 array-record-0.4.1 bleach-6.1.0 click-8.1.7 contourpy-1.3.0 cycler-0.12.1 dm-tree-0.1.8 etils-1.5.2 fonttools-4.53.1 fsspec-2024.6.1 gin-config-0.5.0 google-api-core-2.19.2 google-api-python-client-2.143.0 google-auth-httplib2-0.2.0 googleapis-common-protos-1.63.1 httplib2-0.22.0 immutabledict-4.2.0 importlib-resources-6.4.4 joblib-1.4.2 kaggle-1.6.17 kiwisolver-1.4.5 lxml-5.3.0 matplotlib-3.9.2 oauth2client-4.1.3 opencv-python-headless-4.10.0.84 pandas-2.2.2 portalocker-2.10.1 promise-2.3 proto-plus-1.24.0 py-cpuinfo-9.0.0 pycocotools-2.0.8 pyparsing-3.1.4 python-slugify-8.0.4 pytz-2024.1 pyyaml-5.4.1 regex-2024.7.24 sacrebleu-2.2.0 scikit-learn-1.5.1 scipy-1.13.1 sentencepiece-0.2.0 seqeval-1.2.2 tabulate-0.9.0 tensorflow-addons-0.22.0 tensorflow-datasets-4.9.0 tensorflow-metadata-1.13.0 tensorflow-model-optimization-0.8.0 tensorflow-text-2.10.0 text-unidecode-1.3 tf-models-official-2.10.1 tf-slim-1.1.0 threadpoolctl-3.5.0 toml-0.10.2 tqdm-4.66.5 typeguard-2.13.3 tzdata-2024.1 uritemplate-4.1.1 webencodings-0.5.1\n"
     ]
    },
    {
     "name": "stderr",
     "output_type": "stream",
     "text": [
      "ERROR: Could not find a version that satisfies the requirement maplotlib (from versions: none)\n",
      "ERROR: No matching distribution found for maplotlib\n"
     ]
    }
   ],
   "source": [
    "! pip install tf-models-official\n",
    "! pip install maplotlib\n"
   ]
  },
  {
   "cell_type": "code",
   "execution_count": 24,
   "metadata": {
    "tags": []
   },
   "outputs": [],
   "source": [
    "import os  # Provides a way of using operating system dependent functionality\n",
    "import warnings  # Used to handle warnings in the code\n",
    "\n",
    "# Ignore all warnings\n",
    "warnings.filterwarnings(\"ignore\")\n",
    "\n",
    "import datetime  # Import datetime module to work with dates and times\n",
    "import shutil  # High-level file operations such as copying and removal of files\n",
    "\n",
    "import matplotlib.pyplot as plt  # Matplotlib plotting library for creating static, animated, and interactive visualizations\n",
    "\n",
    "import tensorflow as tf  # Core TensorFlow library for machine learning and neural networks\n",
    "import tensorflow_hub as hub  # TensorFlow Hub is a library for reusable machine learning modules\n",
    "import tensorflow_text as text  # TensorFlow Text provides text-based operations for TensorFlow\n",
    "import tensorflow_addons as tfa  # A collection of additional functionality not available in TensorFlow core\n",
    "\n"
   ]
  },
  {
   "cell_type": "code",
   "execution_count": 4,
   "metadata": {
    "id": "_XgTpm9ZxoN9",
    "tags": []
   },
   "outputs": [],
   "source": [
    "# Set TensorFlow logger level to only display errors\n",
    "tf.get_logger().setLevel(\"ERROR\")\n",
    "\n",
    "# Set TensorFlow C++ logging level to reduce output\n",
    "os.environ[\"TF_CPP_MIN_LOG_LEVEL\"] = \"2\"\n",
    "\n",
    "# Update PATH to include the directory containing saved_model_cli if necessary\n",
    "# Adjust the anaconda_path based on your local Anaconda environment setup\n",
    "anaconda_path = os.path.expanduser(\"~/anaconda3/envs/glabs/bin\")\n",
    "os.environ[\"PATH\"] = f\"{anaconda_path}:{os.environ['PATH']}\"\n"
   ]
  },
  {
   "cell_type": "markdown",
   "metadata": {},
   "source": [
    "### CUDA Support\n",
    "\n",
    "to check if you have a GPU attached. Run the following.\n",
    "\n",
    "NOTE: You will absolutely need to have at least one GPU recognized by TensorFlow or the training can take hours instead of minutes. "
   ]
  },
  {
   "cell_type": "code",
   "execution_count": 5,
   "metadata": {},
   "outputs": [
    {
     "name": "stdout",
     "output_type": "stream",
     "text": [
      "Num GPUs Available: 1\n"
     ]
    }
   ],
   "source": [
    "# Print the number of available GPUs for TensorFlow\n",
    "print(\"Num GPUs Available:\", len(tf.config.list_physical_devices(\"GPU\")))\n"
   ]
  },
  {
   "cell_type": "markdown",
   "metadata": {
    "id": "q6MugfEgDRpY"
   },
   "source": [
    "### Sentiment Analysis\n",
    "\n",
    "This notebook trains a sentiment analysis model to classify movie reviews as *positive* or *negative*, based on the text of the review.\n",
    "\n",
    "You'll use the [Large Movie Review Dataset](https://ai.stanford.edu/~amaas/data/sentiment/) that contains the text of 50,000 movie reviews from the [Internet Movie Database](https://www.imdb.com/)."
   ]
  },
  {
   "cell_type": "markdown",
   "metadata": {
    "id": "Vnvd4mrtPHHV"
   },
   "source": [
    "### Download the IMDB dataset\n",
    "\n",
    "Let's download and extract the dataset, then explore the directory structure.\n"
   ]
  },
  {
   "cell_type": "code",
   "execution_count": 6,
   "metadata": {
    "id": "pOdqCMoQDRJL",
    "tags": []
   },
   "outputs": [
    {
     "name": "stdout",
     "output_type": "stream",
     "text": [
      "Dataset already exists at: C:\\Users\\Zain_\\Downloads\\tfds_datasets\\aclImdb\n",
      "Training data directory: C:\\Users\\Zain_\\Downloads\\tfds_datasets\\aclImdb\\train\n"
     ]
    }
   ],
   "source": [
    "# URL for the IMDB dataset (for sentiment analysis)\n",
    "url = \"https://ai.stanford.edu/~amaas/data/sentiment/aclImdb_v1.tar.gz\"\n",
    "\n",
    "# Set path to the Downloads folder on Windows\n",
    "# NOTE: You need to create the 'tfds_datasets' folder in your Downloads folder\n",
    "path = os.path.join(os.path.expanduser(\"~\"), \"Downloads\", \"tfds_datasets\")\n",
    "\n",
    "# Ensure the directory exists, create it if it doesn't\n",
    "os.makedirs(path, exist_ok=True)\n",
    "\n",
    "# Define the expected dataset directory and file paths\n",
    "dataset_dir = os.path.join(path, \"aclImdb\")\n",
    "train_dir = os.path.join(dataset_dir, \"train\")\n",
    "dataset_file = os.path.join(path, \"aclImdb_v1.tar.gz\")\n",
    "\n",
    "# Check if the training data directory already exists\n",
    "if not os.path.exists(train_dir):\n",
    "    if not os.path.exists(dataset_file):\n",
    "        # Download and extract the dataset if not already downloaded\n",
    "        dataset = tf.keras.utils.get_file(\n",
    "            \"aclImdb_v1.tar.gz\", url, \n",
    "            untar=True, \n",
    "            cache_dir=path, \n",
    "            cache_subdir=\"\"\n",
    "        )\n",
    "    else:\n",
    "        # Extract the dataset if it has been downloaded but not extracted\n",
    "        dataset = tf.keras.utils.get_file(\n",
    "            \"aclImdb_v1.tar.gz\", url, \n",
    "            untar=True, \n",
    "            cache_dir=path, \n",
    "            cache_subdir=\"\"\n",
    "        )\n",
    "\n",
    "    # Remove unused folders (e.g., 'unsup') to simplify the dataset structure\n",
    "    remove_dir = os.path.join(train_dir, \"unsup\")\n",
    "    if os.path.exists(remove_dir):\n",
    "        shutil.rmtree(remove_dir)\n",
    "\n",
    "    print(f\"Dataset downloaded and extracted to: {dataset_dir}\")\n",
    "else:\n",
    "    print(f\"Dataset already exists at: {dataset_dir}\")\n",
    "\n",
    "# Print the path to the training data directory\n",
    "print(f\"Training data directory: {train_dir}\")\n"
   ]
  },
  {
   "cell_type": "markdown",
   "metadata": {
    "id": "lN9lWCYfPo7b"
   },
   "source": [
    "Next, you will use the `text_dataset_from_directory` utility to create a labeled `tf.data.Dataset`.\n",
    "\n",
    "The IMDB dataset has already been divided into train and test, but it lacks a validation set. Let's create a validation set using an 80:20 split of the training data by using the `validation_split` argument below.\n",
    "\n",
    "Note:  When using the `validation_split` and `subset` arguments, make sure to either specify a random seed, or to pass `shuffle=False`, so that the validation and training splits have no overlap."
   ]
  },
  {
   "cell_type": "code",
   "execution_count": 7,
   "metadata": {
    "id": "6IwI_2bcIeX8",
    "tags": []
   },
   "outputs": [
    {
     "name": "stdout",
     "output_type": "stream",
     "text": [
      "Found 25000 files belonging to 2 classes.\n",
      "Using 20000 files for training.\n",
      "Found 25000 files belonging to 2 classes.\n",
      "Using 5000 files for validation.\n",
      "Found 25000 files belonging to 2 classes.\n",
      "Datasets created successfully.\n",
      "Class names: ['neg', 'pos']\n",
      "Number of training batches: 625\n",
      "Number of validation batches: 157\n",
      "Number of test batches: 782\n"
     ]
    }
   ],
   "source": [
    "# Set TensorFlow data pipeline options\n",
    "AUTOTUNE = tf.data.AUTOTUNE\n",
    "batch_size = 32  # Number of samples per gradient update\n",
    "seed = 42  # Random seed for reproducibility\n",
    "\n",
    "# Use the path from the previous cell for the dataset location\n",
    "path = os.path.join(os.path.expanduser(\"~\"), \"Downloads\", \"tfds_datasets\")\n",
    "\n",
    "# Function to create a dataset from a directory\n",
    "def create_dataset(directory, validation_split=None, subset=None):\n",
    "    return tf.keras.preprocessing.text_dataset_from_directory(\n",
    "        directory,\n",
    "        batch_size=batch_size,\n",
    "        validation_split=validation_split,\n",
    "        subset=subset,\n",
    "        seed=seed,\n",
    "    )\n",
    "\n",
    "# Create the training dataset, using 80% of the data for training\n",
    "raw_train_ds = create_dataset(\n",
    "    os.path.join(path, \"aclImdb\", \"train\"),\n",
    "    validation_split=0.2,  # Use 20% of the data for validation\n",
    "    subset=\"training\"\n",
    ")\n",
    "\n",
    "# Get the class names (e.g., positive, negative) from the dataset\n",
    "class_names = raw_train_ds.class_names\n",
    "\n",
    "# Cache the training dataset and prefetch it for performance optimization\n",
    "train_ds = raw_train_ds.cache().prefetch(buffer_size=AUTOTUNE)\n",
    "\n",
    "# Create the validation dataset, using the remaining 20% of the data\n",
    "val_ds = create_dataset(\n",
    "    os.path.join(path, \"aclImdb\", \"train\"),\n",
    "    validation_split=0.2,\n",
    "    subset=\"validation\"\n",
    ")\n",
    "\n",
    "# Cache the validation dataset and prefetch it for performance optimization\n",
    "val_ds = val_ds.cache().prefetch(buffer_size=AUTOTUNE)\n",
    "\n",
    "# Create the test dataset from the test directory\n",
    "test_ds = create_dataset(os.path.join(path, \"aclImdb\", \"test\"))\n",
    "\n",
    "# Cache the test dataset and prefetch it for performance optimization\n",
    "test_ds = test_ds.cache().prefetch(buffer_size=AUTOTUNE)\n",
    "\n",
    "# Print information about the datasets\n",
    "print(\"Datasets created successfully.\")\n",
    "print(f\"Class names: {class_names}\")\n",
    "print(f\"Number of training batches: {tf.data.experimental.cardinality(train_ds)}\")\n",
    "print(f\"Number of validation batches: {tf.data.experimental.cardinality(val_ds)}\")\n",
    "print(f\"Number of test batches: {tf.data.experimental.cardinality(test_ds)}\")\n"
   ]
  },
  {
   "cell_type": "markdown",
   "metadata": {
    "id": "HGm10A5HRGXp"
   },
   "source": [
    "Let's take a look at a few reviews."
   ]
  },
  {
   "cell_type": "code",
   "execution_count": 8,
   "metadata": {
    "id": "JuxDkcvVIoev",
    "tags": []
   },
   "outputs": [
    {
     "name": "stdout",
     "output_type": "stream",
     "text": [
      "Review: b'\"Pandemonium\" is a horror movie spoof that comes off more stupid than funny. Believe me when I tell you, I love comedies. Especially comedy spoofs. \"Airplane\", \"The Naked Gun\" trilogy, \"Blazing Saddles\", \"High Anxiety\", and \"Spaceballs\" are some of my favorite comedies that spoof a particular genre. \"Pandemonium\" is not up there with those films. Most of the scenes in this movie had me sitting there in stunned silence because the movie wasn\\'t all that funny. There are a few laughs in the film, but when you watch a comedy, you expect to laugh a lot more than a few times and that\\'s all this film has going for it. Geez, \"Scream\" had more laughs than this film and that was more of a horror film. How bizarre is that?<br /><br />*1/2 (out of four)'\n",
      "Label : 0 (neg)\n",
      "--------------------------------------------------------------------------------\n",
      "Review: b\"David Mamet is a very interesting and a very un-equal director. His first movie 'House of Games' was the one I liked best, and it set a series of films with characters whose perspective of life changes as they get into complicated situations, and so does the perspective of the viewer.<br /><br />So is 'Homicide' which from the title tries to set the mind of the viewer to the usual crime drama. The principal characters are two cops, one Jewish and one Irish who deal with a racially charged area. The murder of an old Jewish shop owner who proves to be an ancient veteran of the Israeli Independence war triggers the Jewish identity in the mind and heart of the Jewish detective.<br /><br />This is were the flaws of the film are the more obvious. The process of awakening is theatrical and hard to believe, the group of Jewish militants is operatic, and the way the detective eventually walks to the final violent confrontation is pathetic. The end of the film itself is Mamet-like smart, but disappoints from a human emotional perspective.<br /><br />Joe Mantegna and William Macy give strong performances, but the flaws of the story are too evident to be easily compensated.\"\n",
      "Label : 0 (neg)\n",
      "--------------------------------------------------------------------------------\n",
      "Review: b'Great documentary about the lives of NY firefighters during the worst terrorist attack of all time.. That reason alone is why this should be a must see collectors item.. What shocked me was not only the attacks, but the\"High Fat Diet\" and physical appearance of some of these firefighters. I think a lot of Doctors would agree with me that,in the physical shape they were in, some of these firefighters would NOT of made it to the 79th floor carrying over 60 lbs of gear. Having said that i now have a greater respect for firefighters and i realize becoming a firefighter is a life altering job. The French have a history of making great documentary\\'s and that is what this is, a Great Documentary.....'\n",
      "Label : 1 (pos)\n",
      "--------------------------------------------------------------------------------\n"
     ]
    }
   ],
   "source": [
    "# Iterate through a batch of training data\n",
    "for text_batch, label_batch in train_ds.take(1):\n",
    "    # Display the first 3 reviews and their corresponding labels\n",
    "    for i in range(3):\n",
    "        # Print the review text\n",
    "        print(f\"Review: {text_batch.numpy()[i]}\")\n",
    "        \n",
    "        # Get the label (0 or 1) and print the corresponding class name\n",
    "        label = label_batch.numpy()[i]\n",
    "        print(f\"Label : {label} ({class_names[label]})\")\n",
    "        \n",
    "        # Print a separator line for better readability\n",
    "        print(\"-\" * 80)\n"
   ]
  },
  {
   "cell_type": "markdown",
   "metadata": {
    "id": "dX8FtlpGJRE6"
   },
   "source": [
    "## Loading models from TensorFlow Hub\n",
    "\n",
    "For the purpose of this lab, we will be loading a model called Small BERT. Small BERT has the same general architecture as the original BERT but the has fewer and/or smaller Transformer blocks. \n",
    "\n",
    "Some other popular BERT models are BERT Base, ALBERT, BERT Experts, Electra. See the continued learning section at the end of this lab for more info. \n",
    "\n",
    "Aside from the models available below, there are [multiple versions](https://tfhub.dev/google/collections/transformer_encoders_text/1) of the models that are larger and can yeld even better accuracy but they are too big to be fine-tuned on a single GPU. You will be able to do that on the [Solve GLUE tasks using BERT on a TPU colab](https://www.tensorflow.org/tutorials/text/solve_glue_tasks_using_bert_on_tpu).\n",
    "\n",
    "You'll see in the code below that switching the tfhub.dev URL is enough to try any of these models, because all the differences between them are encapsulated in the SavedModels from TF Hub."
   ]
  },
  {
   "cell_type": "markdown",
   "metadata": {},
   "source": [
    "### Choose a BERT model to fine-tune"
   ]
  },
  {
   "cell_type": "code",
   "execution_count": 9,
   "metadata": {
    "cellView": "form",
    "id": "y8_ctG55-uTX",
    "tags": []
   },
   "outputs": [
    {
     "name": "stdout",
     "output_type": "stream",
     "text": [
      "BERT model selected           : https://tfhub.dev/tensorflow/small_bert/bert_en_uncased_L-4_H-512_A-8/1\n",
      "Preprocess model auto-selected: https://tfhub.dev/tensorflow/bert_en_uncased_preprocess/3\n",
      "Models loaded successfully!\n"
     ]
    }
   ],
   "source": [
    "# TensorFlow Hub URLs for the BERT encoder and preprocessing models\n",
    "tfhub_handle_encoder = \"https://tfhub.dev/tensorflow/small_bert/bert_en_uncased_L-4_H-512_A-8/1\"\n",
    "tfhub_handle_preprocess = \"https://tfhub.dev/tensorflow/bert_en_uncased_preprocess/3\"\n",
    "\n",
    "# Print the selected BERT model and preprocessing model URLs\n",
    "print(f\"BERT model selected           : {tfhub_handle_encoder}\")\n",
    "print(f\"Preprocess model auto-selected: {tfhub_handle_preprocess}\")\n",
    "\n",
    "# Verify that the models can be loaded from TensorFlow Hub\n",
    "try:\n",
    "    bert_model = hub.load(tfhub_handle_encoder)  # Load the BERT model\n",
    "    preprocess_model = hub.load(tfhub_handle_preprocess)  # Load the preprocessing model\n",
    "    print(\"Models loaded successfully!\")\n",
    "except Exception as e:\n",
    "    # Handle errors during model loading, such as network issues\n",
    "    print(f\"An error occurred while loading the models: {e}\")\n",
    "    print(\"Please check your internet connection and TensorFlow Hub installation.\")\n"
   ]
  },
  {
   "cell_type": "markdown",
   "metadata": {
    "id": "7WrcxxTRDdHi"
   },
   "source": [
    "## Preprocessing model\n",
    "\n",
    "Text inputs need to be transformed to numeric token ids and arranged in several Tensors before being input to BERT. TensorFlow Hub provides a matching preprocessing model for each of the BERT models discussed above, which implements this transformation using TF ops from the TF.text library. It is not necessary to run pure Python code outside your TensorFlow model to preprocess text.\n",
    "\n",
    "The preprocessing model must be the one referenced by the documentation of the BERT model, which you can read at the URL printed above. For BERT models from the drop-down above, the preprocessing model is selected automatically.\n",
    "\n",
    "Note: You will load the preprocessing model into a [hub.KerasLayer](https://www.tensorflow.org/hub/api_docs/python/hub/KerasLayer) to compose your fine-tuned model. This is the preferred API to load a TF2-style SavedModel from TF Hub into a Keras model."
   ]
  },
  {
   "cell_type": "markdown",
   "metadata": {},
   "source": [
    "Use `hub.KerasLayer` to initialize the preprocessing"
   ]
  },
  {
   "cell_type": "code",
   "execution_count": 10,
   "metadata": {},
   "outputs": [
    {
     "name": "stdout",
     "output_type": "stream",
     "text": [
      "BERT preprocessing layer created successfully!\n",
      "Sample preprocessing output:\n",
      "input_type_ids: shape = (1, 128)\n",
      "input_mask: shape = (1, 128)\n",
      "input_word_ids: shape = (1, 128)\n"
     ]
    }
   ],
   "source": [
    "# Define the URL for the BERT preprocessing model from TensorFlow Hub\n",
    "tfhub_handle_preprocess = \"https://tfhub.dev/tensorflow/bert_en_uncased_preprocess/3\"\n",
    "\n",
    "try:\n",
    "    # Attempt to create the KerasLayer for the BERT preprocessing model\n",
    "    bert_preprocess_model = hub.KerasLayer(tfhub_handle_preprocess, name='preprocessing')\n",
    "    \n",
    "    print(\"BERT preprocessing layer created successfully!\")\n",
    "    \n",
    "    # Optional: Test the preprocessing layer with a sample input\n",
    "    text_test = ['This is a test sentence.']\n",
    "    text_preprocessed = bert_preprocess_model(text_test)\n",
    "    \n",
    "    print(\"Sample preprocessing output:\")\n",
    "    # Print the shapes of the preprocessed output tensors\n",
    "    for key, value in text_preprocessed.items():\n",
    "        print(f\"{key}: shape = {value.shape}\")\n",
    "\n",
    "except Exception as e:\n",
    "    # Handle errors during the creation of the preprocessing layer\n",
    "    print(f\"An error occurred while creating the preprocessing layer: {e}\")\n",
    "    print(\"Please check your internet connection and TensorFlow Hub installation.\")\n"
   ]
  },
  {
   "cell_type": "markdown",
   "metadata": {
    "id": "x4naBiEE_cZX"
   },
   "source": [
    "Let's try the preprocessing model on some text and see the output:"
   ]
  },
  {
   "cell_type": "markdown",
   "metadata": {},
   "source": [
    "Call the preprocess model function and pass text_test"
   ]
  },
  {
   "cell_type": "code",
   "execution_count": 11,
   "metadata": {
    "id": "r9-zCzJpnuwS",
    "tags": []
   },
   "outputs": [
    {
     "name": "stdout",
     "output_type": "stream",
     "text": [
      "Keys       : ['input_type_ids', 'input_mask', 'input_word_ids']\n",
      "Shape      : (1, 128)\n",
      "Word Ids   : [ 101 2023 2003 2107 2019 6429 3185  999  102    0    0    0]\n",
      "Input Mask : [1 1 1 1 1 1 1 1 1 0 0 0]\n",
      "Type Ids   : [0 0 0 0 0 0 0 0 0 0 0 0]\n"
     ]
    }
   ],
   "source": [
    "# Sample input text for testing the BERT preprocessing model\n",
    "text_test = [\"this is such an amazing movie!\"]\n",
    "\n",
    "# Apply the BERT preprocessing model to the sample text\n",
    "text_preprocessed = bert_preprocess_model(text_test)\n",
    "\n",
    "# Print the keys of the dictionary returned by the preprocessing model\n",
    "print(f\"Keys       : {list(text_preprocessed.keys())}\")\n",
    "\n",
    "# 1. input_word_ids are the token IDs corresponding to the words in the tokenized sentence\n",
    "print(f'Shape      : {text_preprocessed[\"input_word_ids\"].shape}')\n",
    "print(f'Word Ids   : {text_preprocessed[\"input_word_ids\"][0, :12]}')\n",
    "\n",
    "# 2. input_mask indicates which tokens should be masked (used in masked language models)\n",
    "print(f'Input Mask : {text_preprocessed[\"input_mask\"][0, :12]}')\n",
    "\n",
    "# 3. input_type_ids represent the sentence ID for the input sentence\n",
    "print(f'Type Ids   : {text_preprocessed[\"input_type_ids\"][0, :12]}')\n"
   ]
  },
  {
   "cell_type": "markdown",
   "metadata": {
    "id": "EqL7ihkN_862"
   },
   "source": [
    "As you can see, now you have the 3 outputs from the preprocessing that a BERT model would use (`input_words_id`, `input_mask` and `input_type_ids`).\n",
    "\n",
    "Some other important points:\n",
    "- The input is truncated to 128 tokens. \n",
    "- The `input_type_ids` only have one value (0) because this is a single sentence input. For a multiple sentence input, it would have one number for each input.\n",
    "\n",
    "The text pre-processor is a TensorFlow model. This means that instead of pre-processing separately, we can include it as a layer in the model code."
   ]
  },
  {
   "cell_type": "markdown",
   "metadata": {
    "id": "DKnLPSEmtp9i"
   },
   "source": [
    "### Using the BERT model\n",
    "\n",
    "Before putting BERT into your own model, let's take a look at its outputs. You will load it from TF Hub and see the returned values."
   ]
  },
  {
   "cell_type": "code",
   "execution_count": 12,
   "metadata": {
    "id": "tXxYpK8ixL34",
    "tags": []
   },
   "outputs": [
    {
     "name": "stdout",
     "output_type": "stream",
     "text": [
      "BERT encoder layer created successfully!\n"
     ]
    }
   ],
   "source": [
    "# URL for the BERT encoder model from TensorFlow Hub\n",
    "tfhub_handle_encoder = \"https://tfhub.dev/tensorflow/small_bert/bert_en_uncased_L-4_H-512_A-8/1\"\n",
    "\n",
    "try:\n",
    "    # Create the KerasLayer for the BERT encoder model\n",
    "    bert_model = hub.KerasLayer(\n",
    "        tfhub_handle_encoder, \n",
    "        trainable=True,  # Allow the model to be fine-tuned during training\n",
    "        name='BERT_encoder'\n",
    "    )\n",
    "    \n",
    "    print(\"BERT encoder layer created successfully!\")\n",
    "\n",
    "except Exception as e:\n",
    "    # Handle any errors that occur during the creation of the BERT encoder layer\n",
    "    print(f\"An error occurred: {e}\")\n",
    "    print(\"Please check your internet connection and TensorFlow Hub installation.\")\n"
   ]
  },
  {
   "cell_type": "code",
   "execution_count": 13,
   "metadata": {
    "id": "_OoF9mebuSZc",
    "tags": []
   },
   "outputs": [
    {
     "name": "stdout",
     "output_type": "stream",
     "text": [
      "Loaded BERT: https://tfhub.dev/tensorflow/small_bert/bert_en_uncased_L-4_H-512_A-8/1\n",
      "Pooled Outputs Shape: (1, 512)\n",
      "Pooled Outputs Values: [ 0.7632119   0.9928078  -0.185979    0.36707926  0.15187056  0.65516853\n",
      "  0.96805054 -0.9486895   0.00200426 -0.9877538   0.06841385 -0.9763005 ]\n",
      "Sequence Outputs Shape: (1, 128, 512)\n",
      "Sequence Outputs Values: [[-0.28965798  0.34297633  0.33192655 ...  0.21285358  0.7097396\n",
      "  -0.05782207]\n",
      " [-0.2874166   0.32027632 -0.23044229 ...  0.5847453  -0.21406388\n",
      "   0.72644556]\n",
      " [-0.6605361   0.68883955 -0.87422854 ...  0.10874444 -0.2629265\n",
      "   0.47718439]\n",
      " ...\n",
      " [-0.22528407 -0.28874654 -0.07071439 ...  0.47594494  0.8329531\n",
      "   0.3999489 ]\n",
      " [-0.29790333 -0.27413625 -0.05455249 ...  0.48899072  1.0958607\n",
      "   0.18127438]\n",
      " [-0.44316655  0.00996757  0.07229053 ...  0.17259613  1.1836891\n",
      "   0.07844079]]\n"
     ]
    }
   ],
   "source": [
    "# Pass the preprocessed text through the BERT model\n",
    "bert_results = bert_model(text_preprocessed)\n",
    "\n",
    "# Print the BERT model information and results\n",
    "print(f\"Loaded BERT: {tfhub_handle_encoder}\")\n",
    "\n",
    "# Pooled output is typically used for classification tasks\n",
    "print(f'Pooled Outputs Shape: {bert_results[\"pooled_output\"].shape}')\n",
    "print(f'Pooled Outputs Values: {bert_results[\"pooled_output\"][0, :12]}')\n",
    "\n",
    "# Sequence output is used when you need the full sequence of embeddings\n",
    "print(f'Sequence Outputs Shape: {bert_results[\"sequence_output\"].shape}')\n",
    "print(f'Sequence Outputs Values: {bert_results[\"sequence_output\"][0, :12]}')\n"
   ]
  },
  {
   "cell_type": "markdown",
   "metadata": {
    "id": "sm61jDrezAll"
   },
   "source": [
    "The BERT models return a map with 3 important keys: `pooled_output`, `sequence_output`, `encoder_outputs`:\n",
    "\n",
    "- `pooled_output` to represent each input sequence as a whole. The shape is `[batch_size, H]`. You can think of this as an embedding for the entire movie review.\n",
    "- `sequence_output` represents each input token in the context. The shape is `[batch_size, seq_length, H]`. You can think of this as a contextual embedding for every token in the movie review.\n",
    "- `encoder_outputs` are the intermediate activations of the `L` Transformer blocks. `outputs[\"encoder_outputs\"][i]` is a Tensor of shape `[batch_size, seq_length, 1024]` with the outputs of the i-th Transformer block, for `0 <= i < L`. The last value of the list is equal to `sequence_output`.\n",
    "\n",
    "For the fine-tuning you are going to use the `pooled_output` array."
   ]
  },
  {
   "cell_type": "markdown",
   "metadata": {
    "id": "pDNKfAXbDnJH"
   },
   "source": [
    "### Define your model\n",
    "\n",
    "You will create a very simple fine-tuned model, with the preprocessing model, the selected BERT model, one Dense and a Dropout layer.\n",
    "\n",
    "Note: for more information about the base model's input and output you can use copy the model's url to get to the documentation page."
   ]
  },
  {
   "cell_type": "markdown",
   "metadata": {},
   "source": [
    "The order of the layers in the model will be:\n",
    "1. Input Layer\n",
    "2. Pre-processing Layer\n",
    "3. Encoder Layer\n",
    "4. From the BERT output map, use pooled_output\n",
    "5. Dropout layer\n",
    "6. Dense layer with sigmoid activation"
   ]
  },
  {
   "cell_type": "code",
   "execution_count": 14,
   "metadata": {
    "id": "aksj743St9ga",
    "tags": []
   },
   "outputs": [
    {
     "name": "stdout",
     "output_type": "stream",
     "text": [
      "tf.Tensor([[0.393805]], shape=(1, 1), dtype=float32)\n"
     ]
    }
   ],
   "source": [
    "def build_classifier_model(dropout_rate=0.1):\n",
    "    \"\"\"\n",
    "    Builds a binary text classification model using BERT.\n",
    "    \n",
    "    Args:\n",
    "        dropout_rate (float): The dropout rate to be applied after the BERT encoder.\n",
    "        \n",
    "    Returns:\n",
    "        tf.keras.Model: A Keras model instance.\n",
    "    \"\"\"\n",
    "    # Input layer expecting raw text input\n",
    "    text_input = tf.keras.layers.Input(shape=(), dtype=tf.string, name=\"text\")\n",
    "    \n",
    "    # Preprocessing layer from TensorFlow Hub\n",
    "    preprocessing_layer = hub.KerasLayer(\n",
    "        tfhub_handle_preprocess, name=\"preprocessing\"\n",
    "    )\n",
    "    \n",
    "    # Preprocess the input text\n",
    "    encoder_inputs = preprocessing_layer(text_input)\n",
    "    \n",
    "    # BERT encoder layer from TensorFlow Hub\n",
    "    encoder = hub.KerasLayer(\n",
    "        tfhub_handle_encoder, trainable=True, name=\"BERT_encoder\"\n",
    "    )\n",
    "    \n",
    "    # Get the pooled output from the BERT encoder\n",
    "    outputs = encoder(encoder_inputs)\n",
    "    net = outputs[\"pooled_output\"]\n",
    "    \n",
    "    # Apply dropout to prevent overfitting\n",
    "    net = tf.keras.layers.Dropout(dropout_rate)(net)\n",
    "    \n",
    "    # Final dense layer with sigmoid activation for binary classification\n",
    "    net = tf.keras.layers.Dense(1, activation=\"sigmoid\", name=\"classifier\")(net)\n",
    "    \n",
    "    # Create the Keras model\n",
    "    return tf.keras.Model(text_input, net)\n",
    "\n",
    "\n",
    "# Build the classifier model with a specified dropout rate\n",
    "dropout_rate = 0.15\n",
    "classifier_model = build_classifier_model(dropout_rate)\n",
    "\n",
    "# Test the model with a sample input\n",
    "bert_raw_result = classifier_model(tf.constant(text_test))\n",
    "print(bert_raw_result)\n"
   ]
  },
  {
   "cell_type": "markdown",
   "metadata": {
    "id": "ZTUzNV2JE2G3"
   },
   "source": [
    "The output is meaningless, of course, because the model has not been trained yet.\n",
    "\n",
    "Let's take a look at the model's structure."
   ]
  },
  {
   "cell_type": "code",
   "execution_count": 15,
   "metadata": {
    "id": "0EmzyHZXKIpm",
    "tags": []
   },
   "outputs": [
    {
     "name": "stdout",
     "output_type": "stream",
     "text": [
      "Model: \"model\"\n",
      "__________________________________________________________________________________________________\n",
      " Layer (type)                   Output Shape         Param #     Connected to                     \n",
      "==================================================================================================\n",
      " text (InputLayer)              [(None,)]            0           []                               \n",
      "                                                                                                  \n",
      " preprocessing (KerasLayer)     {'input_word_ids':   0           ['text[0][0]']                   \n",
      "                                (None, 128),                                                      \n",
      "                                 'input_type_ids':                                                \n",
      "                                (None, 128),                                                      \n",
      "                                 'input_mask': (Non                                               \n",
      "                                e, 128)}                                                          \n",
      "                                                                                                  \n",
      " BERT_encoder (KerasLayer)      {'encoder_outputs':  28763649    ['preprocessing[0][0]',          \n",
      "                                 [(None, 128, 512),               'preprocessing[0][1]',          \n",
      "                                 (None, 128, 512),                'preprocessing[0][2]']          \n",
      "                                 (None, 128, 512),                                                \n",
      "                                 (None, 128, 512)],                                               \n",
      "                                 'pooled_output': (                                               \n",
      "                                None, 512),                                                       \n",
      "                                 'default': (None,                                                \n",
      "                                512),                                                             \n",
      "                                 'sequence_output':                                               \n",
      "                                 (None, 128, 512)}                                                \n",
      "                                                                                                  \n",
      " dropout (Dropout)              (None, 512)          0           ['BERT_encoder[0][5]']           \n",
      "                                                                                                  \n",
      " classifier (Dense)             (None, 1)            513         ['dropout[0][0]']                \n",
      "                                                                                                  \n",
      "==================================================================================================\n",
      "Total params: 28,764,162\n",
      "Trainable params: 28,764,161\n",
      "Non-trainable params: 1\n",
      "__________________________________________________________________________________________________\n",
      "None\n"
     ]
    }
   ],
   "source": [
    "# Print the summary of the classifier model to understand its architecture\n",
    "print(classifier_model.summary())"
   ]
  },
  {
   "cell_type": "markdown",
   "metadata": {},
   "source": [
    "### Model Summary: \"model\"\n",
    "\n",
    "This model consists of several layers, with each layer connected to specific outputs from the previous layer. Below is an explanation of each layer and its corresponding attributes:\n",
    "\n",
    "| **Layer (type)**              | **Output Shape**                | **Param #**  | **Connected to**                          |\n",
    "|-------------------------------|---------------------------------|--------------|-------------------------------------------|\n",
    "| **text (InputLayer)**          | `[(None,)]`                     | 0            | This is the input layer that receives raw text input. |\n",
    "| **preprocessing (KerasLayer)** | `{'input_mask': (None, 128),`   | 0            | This layer processes the input text into token IDs, input masks, and type IDs, with each having a shape of `(None, 128)`. Connected to `text[0][0]`. |\n",
    "|                               | `'input_type_ids': (None, 128),` |              | |\n",
    "|                               | `'input_word_ids': (None, 128)}` |              | |\n",
    "| **BERT_encoder (KerasLayer)**  | `{'default': (None, 512),`      | 28,763,649   | This is the BERT encoder layer that generates multiple outputs, including `pooled_output` (shape `(None, 512)`) and `sequence_output` (shape `(None, 128, 512)`). Connected to the outputs from the preprocessing layer. |\n",
    "|                               | `'encoder_outputs': [(None, 128, 512), (None, 128, 512), (None, 128, 512), (None, 128, 512)],` |              | |\n",
    "|                               | `'pooled_output': (None, 512),` |              | |\n",
    "|                               | `'sequence_output': (None, 128, 512)}` |        | |\n",
    "\n",
    "### Parameter Count:\n",
    "- **Trainable params:** `28,764,161` - These parameters are trainable during model training.\n",
    "- **Non-trainable params:** `1` - This is likely a placeholder and indicates no significant non-trainable parameters in this case.\n",
    "\n",
    "The model includes a total of 28,764,161 parameters, almost all of which are trainable, indicating that the BERT model within is being fine-tuned as part of the overall model training process.\n"
   ]
  },
  {
   "cell_type": "markdown",
   "metadata": {
    "id": "WbUWoZMwc302"
   },
   "source": [
    "## Model training\n",
    "\n",
    "You now have all the pieces to train a model, including the preprocessing module, BERT encoder, data, and classifier."
   ]
  },
  {
   "cell_type": "markdown",
   "metadata": {
    "id": "WpJ3xcwDT56v"
   },
   "source": [
    "### Loss function\n",
    "\n",
    "Since this is a binary classification problem and the model outputs a probability (a single-unit layer), you'll use `losses.BinaryCrossentropy` loss function.\n"
   ]
  },
  {
   "cell_type": "markdown",
   "metadata": {},
   "source": [
    "Define your loss and evaluation metrics here. Since it is a binary classification use BinaryCrossentropy and BinaryAccuracy"
   ]
  },
  {
   "cell_type": "code",
   "execution_count": 16,
   "metadata": {
    "id": "OWPOZE-L3AgE",
    "tags": []
   },
   "outputs": [],
   "source": [
    "# Define the loss function for binary classification\n",
    "loss = tf.keras.losses.BinaryCrossentropy()\n",
    "\n",
    "# Define the metric to evaluate the model's performance\n",
    "metrics = tf.metrics.BinaryAccuracy()\n"
   ]
  },
  {
   "cell_type": "markdown",
   "metadata": {
    "id": "77psrpfzbxtp"
   },
   "source": [
    "### Optimizer\n",
    "\n",
    "For fine-tuning, let's use the same optimizer that BERT was originally trained with: the \"Adaptive Moments\" (Adam). This optimizer minimizes the prediction loss and does regularization by weight decay (not using moments), which is also known as [AdamW](https://www.tensorflow.org/addons/api_docs/python/tfa/optimizers/AdamW).\n",
    "\n",
    "In past labs, we have been using the Adam optimizer which is a popular choice. However, for this lab we will be using a new optimizier which is meant to improve generalization. The intuition and algoritm behind AdamW can be found in this paper [here](https://arxiv.org/abs/1711.05101).\n",
    "\n",
    "For the learning rate (`init_lr`), we use the same schedule as BERT pre-training: linear decay of a notional initial learning rate, prefixed with a linear warm-up phase over the first 10% of training steps (`num_warmup_steps`). In line with the BERT paper, the initial learning rate is smaller for fine-tuning (best of 5e-5, 3e-5, 2e-5)."
   ]
  },
  {
   "cell_type": "code",
   "execution_count": 17,
   "metadata": {
    "id": "P9eP2y9dbw32",
    "tags": []
   },
   "outputs": [],
   "source": [
    "class WarmUp(tf.keras.optimizers.schedules.LearningRateSchedule):\n",
    "    \"\"\"\n",
    "    Custom learning rate schedule with a warm-up phase followed by a decay phase.\n",
    "\n",
    "    Args:\n",
    "        initial_learning_rate (float): The initial learning rate before warm-up.\n",
    "        decay_schedule_fn (function): The function that defines the decay schedule after warm-up.\n",
    "        warmup_steps (int): The number of steps for the warm-up phase.\n",
    "    \"\"\"\n",
    "    def __init__(self, initial_learning_rate, decay_schedule_fn, warmup_steps, **kwargs):\n",
    "        super().__init__()\n",
    "        self.initial_learning_rate = initial_learning_rate\n",
    "        self.warmup_steps = warmup_steps\n",
    "        self.warmup_rate = initial_learning_rate / warmup_steps\n",
    "        self.decay_schedule_fn = decay_schedule_fn\n",
    "\n",
    "    def __call__(self, step):\n",
    "        # Adjust learning rate based on whether we're in the warm-up phase or decay phase\n",
    "        lr = tf.cond(\n",
    "            step < self.warmup_steps,\n",
    "            lambda: self.warmup_rate * tf.cast(step, tf.float32),\n",
    "            lambda: self.decay_schedule_fn(step - self.warmup_steps)\n",
    "        )\n",
    "        return lr\n",
    "\n",
    "    def get_config(self):\n",
    "        # Return the configuration of the custom learning rate schedule\n",
    "        return {\n",
    "            \"initial_learning_rate\": self.initial_learning_rate,\n",
    "            \"warmup_steps\": self.warmup_steps,\n",
    "            \"decay_schedule_fn\": self.decay_schedule_fn,\n",
    "        }\n",
    "\n",
    "# Setting up your model and optimizer\n",
    "epochs = 5\n",
    "steps_per_epoch = tf.data.experimental.cardinality(train_ds).numpy()\n",
    "num_train_steps = steps_per_epoch * epochs\n",
    "num_warmup_steps = int(0.1 * num_train_steps)  # Warm-up for 10% of total steps\n",
    "\n",
    "init_lr = 3e-5  # Initial learning rate\n",
    "\n",
    "# Create the polynomial decay schedule for learning rate\n",
    "decay_schedule_fn = tf.keras.optimizers.schedules.PolynomialDecay(\n",
    "    initial_learning_rate=init_lr,\n",
    "    decay_steps=num_train_steps,\n",
    "    end_learning_rate=0.0\n",
    ")\n",
    "\n",
    "# Apply custom warm-up schedule with the decay schedule\n",
    "learning_rate_fn = WarmUp(\n",
    "    initial_learning_rate=init_lr,\n",
    "    decay_schedule_fn=decay_schedule_fn,\n",
    "    warmup_steps=num_warmup_steps\n",
    ")\n",
    "\n",
    "# Create the AdamW optimizer with the custom learning rate schedule\n",
    "optimizer = tfa.optimizers.AdamW(learning_rate=learning_rate_fn, weight_decay=1e-4)\n"
   ]
  },
  {
   "cell_type": "markdown",
   "metadata": {
    "id": "SqlarlpC_v0g"
   },
   "source": [
    "### Loading the BERT model and training\n",
    "\n",
    "Using the `classifier_model` you created earlier, you can compile the model with the loss, metric and optimizer."
   ]
  },
  {
   "cell_type": "markdown",
   "metadata": {},
   "source": [
    "Complile the model using the optimizer, loss and metrics you defined above."
   ]
  },
  {
   "cell_type": "code",
   "execution_count": 18,
   "metadata": {
    "id": "-7GPDhR98jsD",
    "tags": []
   },
   "outputs": [],
   "source": [
    "# Compile the classifier model with the specified optimizer, loss function, and metrics\n",
    "classifier_model.compile(optimizer=optimizer, loss=loss, metrics=[metrics])\n"
   ]
  },
  {
   "cell_type": "markdown",
   "metadata": {
    "id": "CpBuV5j2cS_b"
   },
   "source": [
    "Note: training time will vary depending on the complexity of the BERT model you have selected."
   ]
  },
  {
   "cell_type": "markdown",
   "metadata": {},
   "source": [
    "Let's train the model for a few epochs."
   ]
  },
  {
   "cell_type": "code",
   "execution_count": 19,
   "metadata": {
    "id": "HtfDFAnN_Neu"
   },
   "outputs": [
    {
     "name": "stdout",
     "output_type": "stream",
     "text": [
      "Training model with https://tfhub.dev/tensorflow/small_bert/bert_en_uncased_L-4_H-512_A-8/1\n",
      "Epoch 1/5\n",
      "625/625 [==============================] - 98s 152ms/step - loss: 0.4926 - binary_accuracy: 0.7469 - val_loss: 0.3678 - val_binary_accuracy: 0.8332\n",
      "Epoch 2/5\n",
      "625/625 [==============================] - 91s 145ms/step - loss: 0.3391 - binary_accuracy: 0.8498 - val_loss: 0.3801 - val_binary_accuracy: 0.8368\n",
      "Epoch 3/5\n",
      "625/625 [==============================] - 90s 144ms/step - loss: 0.2713 - binary_accuracy: 0.8891 - val_loss: 0.3713 - val_binary_accuracy: 0.8500\n",
      "Epoch 4/5\n",
      "625/625 [==============================] - 93s 149ms/step - loss: 0.2259 - binary_accuracy: 0.9117 - val_loss: 0.3909 - val_binary_accuracy: 0.8456\n",
      "Epoch 5/5\n",
      "625/625 [==============================] - 93s 148ms/step - loss: 0.2143 - binary_accuracy: 0.9148 - val_loss: 0.3657 - val_binary_accuracy: 0.8500\n"
     ]
    }
   ],
   "source": [
    "# Print the BERT model URL being used for training\n",
    "print(f\"Training model with {tfhub_handle_encoder}\")\n",
    "\n",
    "# Train the classifier model\n",
    "history = classifier_model.fit(\n",
    "    x=train_ds,  # Training dataset\n",
    "    validation_data=val_ds,  # Validation dataset\n",
    "    epochs=epochs  # Number of epochs to train\n",
    ")\n"
   ]
  },
  {
   "cell_type": "markdown",
   "metadata": {},
   "source": [
    "#### High-Level Explanation of Training Output\n",
    "\n",
    "**Training model with `https://tfhub.dev/tensorflow/small_bert/bert_en_uncased_L-4_H-512_A-8/1`**\n",
    "- Indicates the specific BERT model from TensorFlow Hub being used for training.\n",
    "\n",
    "**Epoch 1/5**\n",
    "- **Epoch 1/5**: Shows that this is the first of 5 training iterations (epochs).\n",
    "\n",
    "**625/625** \n",
    "- The total number of batches processed during each epoch.\n",
    "\n",
    "**[==============================]**\n",
    "- A visual progress bar showing the completion status of the current epoch.\n",
    "\n",
    "**95s** \n",
    "- The total time taken to complete this epoch.\n",
    "\n",
    "**146ms/step** \n",
    "- The average time taken to process each batch (step).\n",
    "\n",
    "**loss: 0.4890**\n",
    "- The loss value after this epoch, representing how well the model is fitting the training data (lower is better).\n",
    "\n",
    "**binary_accuracy: 0.7515**\n",
    "- The accuracy of the model on the training data after this epoch, expressed as a percentage (0.7515 = 75.15%).\n",
    "\n",
    "**val_loss: 0.3822**\n",
    "- The loss value on the validation dataset, indicating how well the model is generalizing to unseen data.\n",
    "\n",
    "**val_binary_accuracy: 0.8286**\n",
    "- The accuracy of the model on the validation dataset, showing how well the model is performing on unseen data, expressed as a percentage (0.8286 = 82.86%).\n"
   ]
  },
  {
   "cell_type": "markdown",
   "metadata": {
    "id": "uBthMlTSV8kn"
   },
   "source": [
    "### Evaluate the model\n",
    "\n",
    "Let's see how the model performs. Two values will be returned. Loss (a number which represents the error, lower values are better), and accuracy."
   ]
  },
  {
   "cell_type": "code",
   "execution_count": 20,
   "metadata": {
    "id": "slqB-urBV9sP"
   },
   "outputs": [
    {
     "name": "stdout",
     "output_type": "stream",
     "text": [
      "782/782 [==============================] - 79s 100ms/step - loss: 0.3751 - binary_accuracy: 0.8447\n",
      "Loss: 0.37506645917892456\n",
      "Accuracy: 0.8446800112724304\n"
     ]
    }
   ],
   "source": [
    "# Evaluate the classifier model on the test dataset\n",
    "loss, accuracy = classifier_model.evaluate(test_ds)\n",
    "\n",
    "# Print the evaluation results\n",
    "print(f\"Loss: {loss}\")\n",
    "print(f\"Accuracy: {accuracy}\")\n"
   ]
  },
  {
   "cell_type": "markdown",
   "metadata": {
    "id": "uttWpgmSfzq9"
   },
   "source": [
    "### Plot the accuracy and loss over time\n",
    "\n",
    "Based on the `History` object returned by `model.fit()`. You can plot the training and validation loss for comparison, as well as the training and validation accuracy:"
   ]
  },
  {
   "cell_type": "code",
   "execution_count": 21,
   "metadata": {
    "id": "fiythcODf0xo"
   },
   "outputs": [
    {
     "name": "stdout",
     "output_type": "stream",
     "text": [
      "dict_keys(['loss', 'binary_accuracy', 'val_loss', 'val_binary_accuracy'])\n"
     ]
    },
    {
     "data": {
      "image/png": "[encoded data removed]",
      "text/plain": [
       "<Figure size 1000x600 with 2 Axes>"
      ]
     },
     "metadata": {},
     "output_type": "display_data"
    }
   ],
   "source": [
    "# Extracting training history data\n",
    "history_dict = history.history\n",
    "print(history_dict.keys())\n",
    "\n",
    "# Assigning the training and validation accuracy and loss values to variables\n",
    "acc = history_dict[\"binary_accuracy\"]\n",
    "val_acc = history_dict[\"val_binary_accuracy\"]\n",
    "loss = history_dict[\"loss\"]\n",
    "val_loss = history_dict[\"val_loss\"]\n",
    "\n",
    "# Defining the range of epochs\n",
    "epochs = range(1, len(acc) + 1)\n",
    "\n",
    "# Setting up the figure for plotting\n",
    "fig = plt.figure(figsize=(10, 6))\n",
    "fig.tight_layout()\n",
    "\n",
    "# Plotting training and validation loss\n",
    "plt.subplot(2, 1, 1)\n",
    "plt.plot(epochs, loss, \"r\", label=\"Training loss\")  # Red line for training loss\n",
    "plt.plot(epochs, val_loss, \"b\", label=\"Validation loss\")  # Blue line for validation loss\n",
    "plt.title(\"Training and validation loss\")\n",
    "plt.ylabel(\"Loss\")\n",
    "plt.legend()\n",
    "\n",
    "# Plotting training and validation accuracy\n",
    "plt.subplot(2, 1, 2)\n",
    "plt.plot(epochs, acc, \"r\", label=\"Training accuracy\")  # Red line for training accuracy\n",
    "plt.plot(epochs, val_acc, \"b\", label=\"Validation accuracy\")  # Blue line for validation accuracy\n",
    "plt.title(\"Training and validation accuracy\")\n",
    "plt.xlabel(\"Epochs\")\n",
    "plt.ylabel(\"Accuracy\")\n",
    "plt.legend(loc=\"lower right\")\n",
    "\n",
    "# Display the plots\n",
    "plt.show()\n"
   ]
  },
  {
   "cell_type": "markdown",
   "metadata": {
    "id": "WzJZCo-cf-Jf"
   },
   "source": [
    "### Explanation of the Training and Validation Plots\n",
    "\n",
    "The images represent two important aspects of model training: **loss** and **accuracy** over the course of training epochs.\n",
    "\n",
    "#### Top Plot: Training and Validation Loss\n",
    "- **X-axis (Epochs)**: Represents the number of training iterations over the entire dataset. The model is trained for 5 epochs in this case.\n",
    "- **Y-axis (Loss)**: Represents the loss value, which is a measure of how well the model's predictions match the true labels. Lower loss values indicate better performance.\n",
    "\n",
    "**Red Line (Training Loss)**:\n",
    "- The red line shows the loss on the training data. \n",
    "- It decreases consistently across epochs, indicating that the model is learning and improving its predictions on the training data.\n",
    "\n",
    "**Blue Line (Validation Loss)**:\n",
    "- The blue line shows the loss on the validation data, which is used to evaluate the model's performance on unseen data.\n",
    "- The validation loss remains relatively stable, slightly decreasing and then plateauing. This suggests that while the model is improving on the training data, its performance on unseen data does not improve significantly after a certain point.\n",
    "\n",
    "#### Bottom Plot: Training and Validation Accuracy\n",
    "- **X-axis (Epochs)**: Represents the number of training epochs.\n",
    "- **Y-axis (Accuracy)**: Represents the accuracy of the model, which is the percentage of correct predictions.\n",
    "\n",
    "**Red Line (Training Accuracy)**:\n",
    "- The red line shows the accuracy on the training data.\n",
    "- It steadily increases across epochs, indicating that the model is getting better at making correct predictions on the training data.\n",
    "\n",
    "**Blue Line (Validation Accuracy)**:\n",
    "- The blue line shows the accuracy on the validation data.\n",
    "- The validation accuracy improves slightly and then remains almost constant, suggesting that the model's ability to generalize to unseen data stabilizes early on and does not improve much after that.\n",
    "\n",
    "### Interpretation\n",
    "- **Training Performance**: The model is learning well on the training data, as indicated by the decreasing training loss and increasing training accuracy.\n",
    "- **Validation Performance**: The relatively flat validation loss and accuracy suggest that the model may have reached its optimal performance on the validation data early in the training process. This can be a sign of a well-trained model, but if the gap between training and validation metrics widens further, it could indicate overfitting.\n"
   ]
  },
  {
   "cell_type": "markdown",
   "metadata": {
    "id": "Rtn7jewb6dg4"
   },
   "source": [
    "### Export for inference\n",
    "\n",
    "Now you just save your fine-tuned model for later use."
   ]
  },
  {
   "cell_type": "markdown",
   "metadata": {},
   "source": [
    "Save the model to saved_model_path for inference."
   ]
  },
  {
   "cell_type": "code",
   "execution_count": 25,
   "metadata": {
    "id": "ShcvqJAgVera"
   },
   "outputs": [
    {
     "name": "stderr",
     "output_type": "stream",
     "text": [
      "WARNING:absl:Found untraced functions such as restored_function_body, restored_function_body, restored_function_body, restored_function_body, restored_function_body while saving (showing 5 of 124). These functions will not be directly callable after loading.\n"
     ]
    }
   ],
   "source": [
    "# Set the dataset name\n",
    "dataset_name = \"imdb\"\n",
    "\n",
    "# Define the path to save the model, formatted with the dataset name\n",
    "saved_model_path = \"./{}_bert\".format(dataset_name.replace(\"/\", \"_\"))\n",
    "\n",
    "# Get the current timestamp in the format YYYYMMDDHHMMSS\n",
    "TIMESTAMP = datetime.datetime.now().strftime(\"%Y%m%d%H%M%S\")\n",
    "\n",
    "# Combine the model path with the timestamp to create a unique export path\n",
    "EXPORT_PATH = os.path.join(saved_model_path, TIMESTAMP)\n",
    "\n",
    "# Save the classifier model to the export path, excluding the optimizer to reduce the saved model size\n",
    "classifier_model.save(EXPORT_PATH, include_optimizer=False)\n"
   ]
  },
  {
   "cell_type": "markdown",
   "metadata": {
    "id": "PbI25bS1vD7s"
   },
   "source": [
    "Let's reload the model so you can try it side by side with the model that is still in memory."
   ]
  },
  {
   "cell_type": "code",
   "execution_count": 26,
   "metadata": {
    "id": "gUEWVskZjEF0"
   },
   "outputs": [],
   "source": [
    "# Reload the saved model from the specified export path\n",
    "reloaded_model = tf.saved_model.load(EXPORT_PATH)\n"
   ]
  },
  {
   "cell_type": "markdown",
   "metadata": {
    "id": "oyTappHTvNCz"
   },
   "source": [
    "Here you can test your model on any sentence you want, just add to the examples variable below."
   ]
  },
  {
   "cell_type": "code",
   "execution_count": 27,
   "metadata": {
    "id": "VBWzH6exlCPS"
   },
   "outputs": [
    {
     "name": "stdout",
     "output_type": "stream",
     "text": [
      "Results from the saved model:\n",
      "input: this is such an amazing movie! : score: 0.997155\n",
      "input: The movie was great!           : score: 0.983708\n",
      "input: The movie was meh.             : score: 0.958868\n",
      "input: The movie was okish.           : score: 0.055479\n",
      "input: The movie was terrible...      : score: 0.005328\n",
      "\n",
      "Results from the model in memory:\n",
      "input: this is such an amazing movie! : score: 0.997155\n",
      "input: The movie was great!           : score: 0.983708\n",
      "input: The movie was meh.             : score: 0.958868\n",
      "input: The movie was okish.           : score: 0.055479\n",
      "input: The movie was terrible...      : score: 0.005328\n",
      "\n"
     ]
    }
   ],
   "source": [
    "def print_my_examples(inputs, results):\n",
    "    \"\"\"\n",
    "    Prints the inputs and their corresponding results in a formatted manner.\n",
    "\n",
    "    Args:\n",
    "        inputs (list): List of input strings.\n",
    "        results (list): List of results corresponding to each input.\n",
    "    \"\"\"\n",
    "    result_for_printing = [\n",
    "        f\"input: {inputs[i]:<30} : score: {results[i][0]:.6f}\"\n",
    "        for i in range(len(inputs))\n",
    "    ]\n",
    "    print(*result_for_printing, sep=\"\\n\")\n",
    "    print()\n",
    "\n",
    "\n",
    "# Example sentences to test the model\n",
    "examples = [\n",
    "    \"this is such an amazing movie!\",  # Same sentence as used earlier\n",
    "    \"The movie was great!\",\n",
    "    \"The movie was meh.\",\n",
    "    \"The movie was okish.\",\n",
    "    \"The movie was terrible...\",\n",
    "]\n",
    "\n",
    "# Get predictions from the reloaded model\n",
    "reloaded_results = reloaded_model(tf.constant(examples))\n",
    "\n",
    "# Get predictions from the original model in memory\n",
    "original_results = classifier_model(tf.constant(examples))\n",
    "\n",
    "# Print results from the saved model\n",
    "print(\"Results from the saved model:\")\n",
    "print_my_examples(examples, reloaded_results)\n",
    "\n",
    "# Print results from the model currently in memory\n",
    "print(\"Results from the model in memory:\")\n",
    "print_my_examples(examples, original_results)\n"
   ]
  },
  {
   "cell_type": "markdown",
   "metadata": {},
   "source": [
    "## Continued Learning\n",
    "\n",
    "In this lab, we chose small BERT to train our text classifier. There are other pre-trained BERT models which you can find here. Consider experiementing with some of these. However, remember that the bigger the model you choose to fine-tune, the longer it will take to train.\n",
    "\n",
    "There are \n",
    "  - [BERT-Base](https://tfhub.dev/tensorflow/bert_en_uncased_L-12_H-768_A-12/3), [Uncased](https://tfhub.dev/tensorflow/bert_en_uncased_L-12_H-768_A-12/3) and [seven more models](https://tfhub.dev/google/collections/bert/1) with trained weights released by the original BERT authors.\n",
    "  - [Small BERTs](https://tfhub.dev/google/collections/bert/1) have the same general architecture but fewer and/or smaller Transformer blocks, which lets you explore tradeoffs between speed, size and quality.\n",
    "  - [ALBERT](https://tfhub.dev/google/collections/albert/1): four different sizes of \"A Lite BERT\" that reduces model size (but not computation time) by sharing parameters between layers.\n",
    "  - [BERT Experts](https://tfhub.dev/google/collections/experts/bert/1): eight models that all have the BERT-base architecture but offer a choice between different pre-training domains, to align more closely with the target task.\n",
    "  - [Electra](https://tfhub.dev/google/collections/electra/1) has the same architecture as BERT (in three different sizes), but gets pre-trained as a discriminator in a set-up that resembles a Generative Adversarial Network (GAN).\n",
    "  - BERT with Talking-Heads Attention and Gated GELU [[base](https://tfhub.dev/tensorflow/talkheads_ggelu_bert_en_base/1), [large](https://tfhub.dev/tensorflow/talkheads_ggelu_bert_en_large/1)] has two improvements to the core of the Transformer architecture.\n",
    "\n",
    "The model documentation on TensorFlow Hub has more details and references to the\n",
    "research literature.\n",
    "\n",
    "Aside from the models available above, there are [multiple versions](https://tfhub.dev/google/collections/transformer_encoders_text/1) of the models that are larger and can yeld even better accuracy but they are too big to be fine-tuned on a single GPU."
   ]
  },
  {
   "cell_type": "markdown",
   "metadata": {},
   "source": [
    "#### License\n",
    "\n",
    "Copyright 2022 Google Inc. Licensed under the Apache License, Version 2.0 (the \"License\"); you may not use this file except in compliance with the License. You may obtain a copy of the License at http://www.apache.org/licenses/LICENSE-2.0 Unless required by applicable law or agreed to in writing, software distributed under the License is distributed on an \"AS IS\" BASIS, WITHOUT WARRANTIES OR CONDITIONS OF ANY KIND, either express or implied. See the License for the specific language governing permissions and limitations under the License"
   ]
  }
 ],
 "metadata": {
  "accelerator": "GPU",
  "colab": {
   "collapsed_sections": [],
   "name": "classify_text_with_bert.ipynb",
   "toc_visible": true
  },
  "environment": {
   "kernel": "conda-base-py",
   "name": "workbench-notebooks.m121",
   "type": "gcloud",
   "uri": "us-docker.pkg.dev/deeplearning-platform-release/gcr.io/workbench-notebooks:m121"
  },
  "kernelspec": {
   "display_name": "glabs",
   "language": "python",
   "name": "python3"
  },
  "language_info": {
   "codemirror_mode": {
    "name": "ipython",
    "version": 3
   },
   "file_extension": ".py",
   "mimetype": "text/x-python",
   "name": "python",
   "nbconvert_exporter": "python",
   "pygments_lexer": "ipython3",
   "version": "3.9.19"
  }
 },
 "nbformat": 4,
 "nbformat_minor": 4
}
